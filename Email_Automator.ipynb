{
 "cells": [
  {
   "cell_type": "code",
   "execution_count": 2,
   "id": "c395bc3a",
   "metadata": {},
   "outputs": [],
   "source": [
    "import pandas as pd\n",
    "import numpy as np\n",
    "import smtplib"
   ]
  },
  {
   "cell_type": "markdown",
   "id": "2a8d37af",
   "metadata": {},
   "source": [
    "## Read File\n",
    "\n",
    "You can pass the file that inlcude your emails and names. It can be: \n",
    "\n",
    "**pd.read csv( )**\n",
    "\n",
    "**pd.read json( )**\n",
    "\n",
    "**pd.read excel( )**\n",
    "\n",
    "**pd.read sql( )**\n",
    "\n",
    "> **Note:** File must be in the same folder of this Notebook"
   ]
  },
  {
   "cell_type": "code",
   "execution_count": 3,
   "id": "077deb13",
   "metadata": {},
   "outputs": [
    {
     "data": {
      "text/html": [
       "<div>\n",
       "<style scoped>\n",
       "    .dataframe tbody tr th:only-of-type {\n",
       "        vertical-align: middle;\n",
       "    }\n",
       "\n",
       "    .dataframe tbody tr th {\n",
       "        vertical-align: top;\n",
       "    }\n",
       "\n",
       "    .dataframe thead th {\n",
       "        text-align: right;\n",
       "    }\n",
       "</style>\n",
       "<table border=\"1\" class=\"dataframe\">\n",
       "  <thead>\n",
       "    <tr style=\"text-align: right;\">\n",
       "      <th></th>\n",
       "      <th>ID</th>\n",
       "      <th>Start time</th>\n",
       "      <th>Completion time</th>\n",
       "      <th>Full Name</th>\n",
       "      <th>Department</th>\n",
       "      <th>Registration No.</th>\n",
       "      <th>Email</th>\n",
       "      <th>Skill You Are Good At\\n</th>\n",
       "      <th>Did You Follow Our Social Media Channels Given in Description Above?</th>\n",
       "    </tr>\n",
       "  </thead>\n",
       "  <tbody>\n",
       "    <tr>\n",
       "      <th>0</th>\n",
       "      <td>1</td>\n",
       "      <td>6/12/22 23:35:15</td>\n",
       "      <td>6/12/22 23:38:06</td>\n",
       "      <td>Abdul Raheem</td>\n",
       "      <td>Computer Science</td>\n",
       "      <td>6th</td>\n",
       "      <td>arfarooqix@gmail.com</td>\n",
       "      <td>Content Writing</td>\n",
       "      <td>NaN</td>\n",
       "    </tr>\n",
       "    <tr>\n",
       "      <th>1</th>\n",
       "      <td>2</td>\n",
       "      <td>8/8/22 0:08:06</td>\n",
       "      <td>8/8/22 0:10:29</td>\n",
       "      <td>Huzaifa Khan</td>\n",
       "      <td>Software Engineering</td>\n",
       "      <td>5th</td>\n",
       "      <td>fekok29594@ukgent.com</td>\n",
       "      <td>Graphic Design</td>\n",
       "      <td>NaN</td>\n",
       "    </tr>\n",
       "    <tr>\n",
       "      <th>2</th>\n",
       "      <td>3</td>\n",
       "      <td>8/8/22 5:02:46</td>\n",
       "      <td>8/8/22 5:38:32</td>\n",
       "      <td>Nabeel Ahmed</td>\n",
       "      <td>Computer science</td>\n",
       "      <td>4th</td>\n",
       "      <td>fekok29594@ukgent.com</td>\n",
       "      <td>Web Development</td>\n",
       "      <td>NaN</td>\n",
       "    </tr>\n",
       "    <tr>\n",
       "      <th>3</th>\n",
       "      <td>4</td>\n",
       "      <td>8/8/22 11:46:51</td>\n",
       "      <td>8/8/22 11:52:24</td>\n",
       "      <td>Muhammad Usama Masood</td>\n",
       "      <td>Computer Science</td>\n",
       "      <td>6th</td>\n",
       "      <td>fekok29594@ukgent.com</td>\n",
       "      <td>Marketing</td>\n",
       "      <td>NaN</td>\n",
       "    </tr>\n",
       "    <tr>\n",
       "      <th>4</th>\n",
       "      <td>5</td>\n",
       "      <td>8/12/22 22:28:09</td>\n",
       "      <td>8/12/22 22:31:40</td>\n",
       "      <td>Ahmad Raza</td>\n",
       "      <td>Computer Science</td>\n",
       "      <td>FA20-BSE-041</td>\n",
       "      <td>fekok29594@ukgent.com</td>\n",
       "      <td>Web Development</td>\n",
       "      <td>Yes</td>\n",
       "    </tr>\n",
       "  </tbody>\n",
       "</table>\n",
       "</div>"
      ],
      "text/plain": [
       "   ID        Start time   Completion time               Full Name  \\\n",
       "0   1  6/12/22 23:35:15  6/12/22 23:38:06            Abdul Raheem   \n",
       "1   2    8/8/22 0:08:06    8/8/22 0:10:29            Huzaifa Khan   \n",
       "2   3    8/8/22 5:02:46    8/8/22 5:38:32            Nabeel Ahmed   \n",
       "3   4   8/8/22 11:46:51   8/8/22 11:52:24  Muhammad Usama Masood    \n",
       "4   5  8/12/22 22:28:09  8/12/22 22:31:40             Ahmad Raza    \n",
       "\n",
       "              Department Registration No.                  Email  \\\n",
       "0       Computer Science              6th   arfarooqix@gmail.com   \n",
       "1  Software Engineering               5th  fekok29594@ukgent.com   \n",
       "2       Computer science              4th  fekok29594@ukgent.com   \n",
       "3      Computer Science              6th   fekok29594@ukgent.com   \n",
       "4      Computer Science      FA20-BSE-041  fekok29594@ukgent.com   \n",
       "\n",
       "  Skill You Are Good At\\n  \\\n",
       "0         Content Writing   \n",
       "1          Graphic Design   \n",
       "2         Web Development   \n",
       "3               Marketing   \n",
       "4         Web Development   \n",
       "\n",
       "  Did You Follow Our Social Media Channels Given in Description Above?  \n",
       "0                                                NaN                    \n",
       "1                                                NaN                    \n",
       "2                                                NaN                    \n",
       "3                                                NaN                    \n",
       "4                                                Yes                    "
      ]
     },
     "execution_count": 3,
     "metadata": {},
     "output_type": "execute_result"
    }
   ],
   "source": [
    "# Read Your CSV File\n",
    "df =pd.read_csv(\"automate.csv\")\n",
    "df"
   ]
  },
  {
   "cell_type": "markdown",
   "id": "deb51404",
   "metadata": {},
   "source": [
    "## Coloumn Names\n",
    "\n",
    "Sure you have coloums named as Name and Email. If not, rename them!\n",
    "\n",
    "\n",
    "> **Note:** This code will runonly if you satisfy above condtion."
   ]
  },
  {
   "cell_type": "code",
   "execution_count": 7,
   "id": "a61badc8",
   "metadata": {},
   "outputs": [
    {
     "ename": "SyntaxError",
     "evalue": "invalid syntax (4030878483.py, line 3)",
     "output_type": "error",
     "traceback": [
      "\u001b[0;36m  Input \u001b[0;32mIn [7]\u001b[0;36m\u001b[0m\n\u001b[0;31m    Sure you have coloums named as Name and Email. If not, rename them!\u001b[0m\n\u001b[0m         ^\u001b[0m\n\u001b[0;31mSyntaxError\u001b[0m\u001b[0;31m:\u001b[0m invalid syntax\n"
     ]
    }
   ],
   "source": [
    "# Store the Full Name Coloums Data in the form of Series in names\n",
    "names = df[\"Full Name\"]"
   ]
  },
  {
   "cell_type": "code",
   "execution_count": null,
   "id": "944d04da",
   "metadata": {
    "scrolled": true
   },
   "outputs": [],
   "source": [
    "# Store the Email Coloums Data in the form of Series in Emails\n",
    "emails = df[\"Email\"]"
   ]
  },
  {
   "cell_type": "markdown",
   "id": "d6db7ea5",
   "metadata": {},
   "source": [
    "## How to Configure for SMTP\n",
    "\n",
    "The smtplib is a Python library for sending emails using the Simple Mail Transfer Protocol (SMTP).\n",
    "\n",
    "**1st:** Enable Two Way Authentication in Google\n",
    "\n",
    "**2nd:** Generate an App Password from \"Signing in to Google\". (https://myaccount.google.com/security)\n",
    "\n",
    "> **Note:** Replace Your Gmail Account and App Password in the code below for it working."
   ]
  },
  {
   "cell_type": "code",
   "execution_count": null,
   "id": "6fd8670a",
   "metadata": {},
   "outputs": [],
   "source": [
    "server = smtplib.SMTP(\"smtp.gmail.com\", 587)\n",
    "server.starttls()\n",
    "# Setting the Login Access\n",
    "server.login(\"Enter You Gmail ID\", \"Enter Your App Password\")\n",
    "\n",
    "# Email Generation\n",
    "for name in names:\n",
    "    \n",
    "    # Subject of the Email\n",
    "    subject = \"GDSC Core Team Selection\"\n",
    "    \n",
    "    # Body of the Email\n",
    "    body = f'Hello {name},'+ \"\"\"\n",
    "    \n",
    "This is the meeting for the selection of Core Team. Camera and Mic must be turned on. There will be few questions regarding the application, be ready for an interactive session.\n",
    "\n",
    "Book a Meeting Slot Link: ABC.XYZ\n",
    " \n",
    " \n",
    "Abdul Raheem\n",
    "Microsoft Learn Student Ambassador\n",
    "Mobile: +xx xxxxx xxx\n",
    "Abdul.Raheem@studentambassadors.com\n",
    "     \"\"\"  \n",
    "    \n",
    "    msg = f'Subject: {subject}\\n\\n{body}'\n",
    "    \n",
    "    for email in emails:\n",
    "        print(\"Email Sent To: \", name + \"\\n\")\n",
    "        server.sendmail(\"Enter You Gmail ID\", email,    \n",
    "                    msg)    # Sending the Email\n",
    "        break\n",
    "    "
   ]
  }
 ],
 "metadata": {
  "kernelspec": {
   "display_name": "Python 3 (ipykernel)",
   "language": "python",
   "name": "python3"
  },
  "language_info": {
   "codemirror_mode": {
    "name": "ipython",
    "version": 3
   },
   "file_extension": ".py",
   "mimetype": "text/x-python",
   "name": "python",
   "nbconvert_exporter": "python",
   "pygments_lexer": "ipython3",
   "version": "3.9.12"
  }
 },
 "nbformat": 4,
 "nbformat_minor": 5
}
